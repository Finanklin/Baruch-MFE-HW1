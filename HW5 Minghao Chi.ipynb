{
 "cells": [
  {
   "cell_type": "markdown",
   "metadata": {},
   "source": [
    "# Question 1 Algorithmic questions"
   ]
  },
  {
   "cell_type": "markdown",
   "metadata": {},
   "source": [
    "Find the kth largest element in an unsorted array. Note that it is the kth largest element in the sorted order, not the kth distinct element."
   ]
  },
  {
   "cell_type": "markdown",
   "metadata": {},
   "source": [
    "## Examples:"
   ]
  },
  {
   "cell_type": "markdown",
   "metadata": {},
   "source": [
    "* Input: [3,2,1,5,6,4] and k = 2\n",
    "\n",
    "* Output: 5"
   ]
  },
  {
   "cell_type": "markdown",
   "metadata": {},
   "source": [
    "* Input: [3,2,3,1,2,4,5,5,6] and k = 4\n",
    "* Output: 4"
   ]
  },
  {
   "cell_type": "markdown",
   "metadata": {},
   "source": [
    "You may assume k is always valid, 1 ≤ k ≤ array's length."
   ]
  },
  {
   "cell_type": "markdown",
   "metadata": {},
   "source": [
    "To receive full credit, you should do the following:\n",
    "\n",
    "* Develop several test cases and explain why you choose these test cases\n",
    "* Wrap your solution into a function.\n",
    "* Analyze the time complexity of your algorithm."
   ]
  },
  {
   "cell_type": "markdown",
   "metadata": {},
   "source": [
    "Hint: You should use heapq to solve the question, but you should not use heapq.nlargest."
   ]
  },
  {
   "cell_type": "code",
   "execution_count": 54,
   "metadata": {},
   "outputs": [],
   "source": [
    "from heapq import heappush, heappop, heapify\n",
    "def kth_largest(l, k):\n",
    "    h = []\n",
    "    for item in l:\n",
    "        heappush(h, item)\n",
    "    for i in range(len(l) - k + 1):\n",
    "        temp = heappop(h)\n",
    "    return temp\n"
   ]
  },
  {
   "cell_type": "code",
   "execution_count": 55,
   "metadata": {},
   "outputs": [
    {
     "name": "stdout",
     "output_type": "stream",
     "text": [
      "5\n"
     ]
    }
   ],
   "source": [
    "#test case 1\n",
    "print(kth_largest([3,2,1,5,6,4], 2))"
   ]
  },
  {
   "cell_type": "code",
   "execution_count": 56,
   "metadata": {},
   "outputs": [
    {
     "name": "stdout",
     "output_type": "stream",
     "text": [
      "4\n"
     ]
    }
   ],
   "source": [
    "#test case 2\n",
    "print(kth_largest([3,2,3,1,2,4,5,5,6], 4))"
   ]
  },
  {
   "cell_type": "code",
   "execution_count": 57,
   "metadata": {},
   "outputs": [
    {
     "name": "stdout",
     "output_type": "stream",
     "text": [
      "7\n"
     ]
    }
   ],
   "source": [
    "#test case 3\n",
    "print(kth_largest([3,4,5,2,6,7,1], 1))\n",
    "#I choose this to check whether it will return maximum"
   ]
  },
  {
   "cell_type": "markdown",
   "metadata": {},
   "source": [
    "The time complexity of this algo is O(n). To be more specific, you first need to push  the element into the heap, which costs n. Then you need to pop n - k + 1 element, so cost n - k + 1"
   ]
  },
  {
   "cell_type": "markdown",
   "metadata": {},
   "source": [
    "# Question 2 Multithreading pop."
   ]
  },
  {
   "cell_type": "markdown",
   "metadata": {},
   "source": [
    "Using python data structure Queue, generate a queue that have 10000 elments. Then use 1, 5, 20 threads to pop out the elments out. Compare the efficiency when you use different number of threads and explain why you see the pattern of performance."
   ]
  },
  {
   "cell_type": "code",
   "execution_count": 64,
   "metadata": {},
   "outputs": [],
   "source": [
    "import queue\n",
    "import logging\n",
    "import threading\n",
    "import time"
   ]
  },
  {
   "cell_type": "code",
   "execution_count": 80,
   "metadata": {},
   "outputs": [
    {
     "name": "stderr",
     "output_type": "stream",
     "text": [
      "01:02:58: Main    : create and start thread 0.\n",
      "01:02:58: Thread 0: starting\n",
      "01:02:58: Main    : create and start thread 1.\n",
      "01:02:58: Thread 0: finishing\n",
      "01:02:58: Thread 1: starting\n",
      "01:02:58: Main    : create and start thread 2.\n",
      "01:02:58: Thread 1: finishing\n",
      "01:02:58: Thread 2: starting\n",
      "01:02:58: Main    : create and start thread 3.\n",
      "01:02:58: Thread 2: finishing\n",
      "01:02:59: Thread 3: starting\n",
      "01:02:59: Main    : create and start thread 4.\n",
      "01:02:59: Thread 3: finishing\n",
      "01:02:59: Thread 4: starting\n",
      "01:02:59: Main    : before joining thread 0.\n",
      "01:02:59: Thread 4: finishing\n",
      "01:02:59: Main    : thread 0 done\n",
      "01:02:59: Main    : before joining thread 1.\n",
      "01:02:59: Main    : thread 1 done\n",
      "01:02:59: Main    : before joining thread 2.\n",
      "01:02:59: Main    : thread 2 done\n",
      "01:02:59: Main    : before joining thread 3.\n",
      "01:02:59: Main    : thread 3 done\n",
      "01:02:59: Main    : before joining thread 4.\n",
      "01:02:59: Main    : thread 4 done\n"
     ]
    },
    {
     "name": "stdout",
     "output_type": "stream",
     "text": [
      "Time consumed for 5 threads: \n",
      "0.11170268058776855\n"
     ]
    }
   ],
   "source": [
    "def thread_function(name, q):\n",
    "    logging.info(\"Thread %s: starting\", name)\n",
    "    while not q.empty():\n",
    "        q.get()\n",
    "    logging.info(\"Thread %s: finishing\", name)\n",
    "\n",
    "if __name__ == \"__main__\":\n",
    "    your_queue = queue.Queue(10000)\n",
    "    for i in range(10000):\n",
    "        your_queue.put(i)\n",
    "    \n",
    "    start = time.time()\n",
    "    format = \"%(asctime)s: %(message)s\"\n",
    "    logging.basicConfig(format=format, level=logging.INFO,\n",
    "                        datefmt=\"%H:%M:%S\")\n",
    "\n",
    "    threads = list()\n",
    "    for index in range(5):\n",
    "        logging.info(\"Main    : create and start thread %d.\", index)\n",
    "        x = threading.Thread(target=thread_function, args=(index, your_queue))\n",
    "        threads.append(x)\n",
    "        x.start()\n",
    "\n",
    "    for index, thread in enumerate(threads):\n",
    "        logging.info(\"Main    : before joining thread %d.\", index)\n",
    "        thread.join()\n",
    "        logging.info(\"Main    : thread %d done\", index)\n",
    "    print(\"Time consumed for 5 threads: \")\n",
    "    print(time.time() - start)\n",
    "    "
   ]
  },
  {
   "cell_type": "code",
   "execution_count": 81,
   "metadata": {},
   "outputs": [
    {
     "name": "stderr",
     "output_type": "stream",
     "text": [
      "18:01:31: Main    : create and start thread 0.\n",
      "18:01:31: Thread 0: starting\n",
      "18:01:31: Main    : before joining thread 0.\n",
      "18:01:31: Thread 0: finishing\n",
      "18:01:31: Main    : thread 0 done\n"
     ]
    },
    {
     "name": "stdout",
     "output_type": "stream",
     "text": [
      "Time consumed for 1 threads: \n",
      "0.09375\n"
     ]
    }
   ],
   "source": [
    "if __name__ == \"__main__\":\n",
    "    your_queue = queue.Queue(10000)\n",
    "    for i in range(10000):\n",
    "        your_queue.put(i)\n",
    "    \n",
    "    start = time.time()\n",
    "    format = \"%(asctime)s: %(message)s\"\n",
    "    logging.basicConfig(format=format, level=logging.INFO,\n",
    "                        datefmt=\"%H:%M:%S\")\n",
    "\n",
    "    threads = list()\n",
    "    for index in range(1):\n",
    "        logging.info(\"Main    : create and start thread %d.\", index)\n",
    "        x = threading.Thread(target=thread_function, args=(index, your_queue))\n",
    "        threads.append(x)\n",
    "        x.start()\n",
    "\n",
    "    for index, thread in enumerate(threads):\n",
    "        logging.info(\"Main    : before joining thread %d.\", index)\n",
    "        thread.join()\n",
    "        logging.info(\"Main    : thread %d done\", index)\n",
    "    print(\"Time consumed for 1 threads: \")\n",
    "    print(time.time() - start)"
   ]
  },
  {
   "cell_type": "code",
   "execution_count": 82,
   "metadata": {},
   "outputs": [
    {
     "name": "stderr",
     "output_type": "stream",
     "text": [
      "18:01:44: Main    : create and start thread 0.\n",
      "18:01:44: Thread 0: starting\n",
      "18:01:44: Main    : create and start thread 1.\n",
      "18:01:44: Thread 0: finishing\n",
      "18:01:44: Thread 1: starting\n",
      "18:01:44: Main    : create and start thread 2.\n",
      "18:01:44: Thread 1: finishing\n",
      "18:01:44: Thread 2: starting\n",
      "18:01:44: Main    : create and start thread 3.\n",
      "18:01:44: Thread 2: finishing\n",
      "18:01:44: Thread 3: starting\n",
      "18:01:44: Main    : create and start thread 4.\n",
      "18:01:44: Thread 3: finishing\n",
      "18:01:44: Thread 4: starting\n",
      "18:01:44: Main    : create and start thread 5.\n",
      "18:01:44: Thread 4: finishing\n",
      "18:01:44: Thread 5: starting\n",
      "18:01:44: Main    : create and start thread 6.\n",
      "18:01:44: Thread 5: finishing\n",
      "18:01:44: Thread 6: starting\n",
      "18:01:44: Main    : create and start thread 7.\n",
      "18:01:44: Thread 6: finishing\n",
      "18:01:44: Thread 7: starting\n",
      "18:01:44: Main    : create and start thread 8.\n",
      "18:01:44: Thread 7: finishing\n",
      "18:01:44: Thread 8: starting\n",
      "18:01:44: Main    : create and start thread 9.\n",
      "18:01:44: Thread 8: finishing\n",
      "18:01:44: Thread 9: starting\n",
      "18:01:44: Main    : create and start thread 10.\n",
      "18:01:44: Thread 9: finishing\n",
      "18:01:44: Thread 10: starting\n",
      "18:01:44: Main    : create and start thread 11.\n",
      "18:01:44: Thread 10: finishing\n",
      "18:01:44: Thread 11: starting\n",
      "18:01:44: Main    : create and start thread 12.\n",
      "18:01:44: Thread 11: finishing\n",
      "18:01:44: Thread 12: starting\n",
      "18:01:44: Main    : create and start thread 13.\n",
      "18:01:44: Thread 12: finishing\n",
      "18:01:44: Thread 13: starting\n",
      "18:01:44: Main    : create and start thread 14.\n",
      "18:01:44: Thread 13: finishing\n",
      "18:01:44: Thread 14: starting\n",
      "18:01:44: Main    : create and start thread 15.\n",
      "18:01:44: Thread 14: finishing\n",
      "18:01:44: Thread 15: starting\n",
      "18:01:44: Main    : create and start thread 16.\n",
      "18:01:44: Thread 15: finishing\n",
      "18:01:44: Thread 16: starting\n",
      "18:01:44: Main    : create and start thread 17.\n",
      "18:01:44: Thread 16: finishing\n",
      "18:01:44: Thread 17: starting\n",
      "18:01:44: Main    : create and start thread 18.\n",
      "18:01:44: Thread 17: finishing\n",
      "18:01:44: Thread 18: starting\n",
      "18:01:44: Main    : create and start thread 19.\n",
      "18:01:44: Thread 18: finishing\n",
      "18:01:44: Thread 19: starting\n",
      "18:01:44: Main    : before joining thread 0.\n",
      "18:01:44: Thread 19: finishing\n",
      "18:01:44: Main    : thread 0 done\n",
      "18:01:44: Main    : before joining thread 1.\n",
      "18:01:44: Main    : thread 1 done\n",
      "18:01:44: Main    : before joining thread 2.\n",
      "18:01:44: Main    : thread 2 done\n",
      "18:01:44: Main    : before joining thread 3.\n",
      "18:01:44: Main    : thread 3 done\n",
      "18:01:44: Main    : before joining thread 4.\n",
      "18:01:44: Main    : thread 4 done\n",
      "18:01:44: Main    : before joining thread 5.\n",
      "18:01:44: Main    : thread 5 done\n",
      "18:01:44: Main    : before joining thread 6.\n",
      "18:01:44: Main    : thread 6 done\n",
      "18:01:44: Main    : before joining thread 7.\n",
      "18:01:44: Main    : thread 7 done\n",
      "18:01:44: Main    : before joining thread 8.\n",
      "18:01:45: Main    : thread 8 done\n",
      "18:01:45: Main    : before joining thread 9.\n",
      "18:01:45: Main    : thread 9 done\n",
      "18:01:45: Main    : before joining thread 10.\n",
      "18:01:45: Main    : thread 10 done\n",
      "18:01:45: Main    : before joining thread 11.\n",
      "18:01:45: Main    : thread 11 done\n",
      "18:01:45: Main    : before joining thread 12.\n",
      "18:01:45: Main    : thread 12 done\n",
      "18:01:45: Main    : before joining thread 13.\n",
      "18:01:45: Main    : thread 13 done\n",
      "18:01:45: Main    : before joining thread 14.\n",
      "18:01:45: Main    : thread 14 done\n",
      "18:01:45: Main    : before joining thread 15.\n",
      "18:01:45: Main    : thread 15 done\n",
      "18:01:45: Main    : before joining thread 16.\n",
      "18:01:45: Main    : thread 16 done\n",
      "18:01:45: Main    : before joining thread 17.\n",
      "18:01:45: Main    : thread 17 done\n",
      "18:01:45: Main    : before joining thread 18.\n",
      "18:01:45: Main    : thread 18 done\n",
      "18:01:45: Main    : before joining thread 19.\n",
      "18:01:45: Main    : thread 19 done\n"
     ]
    },
    {
     "name": "stdout",
     "output_type": "stream",
     "text": [
      "Time consumed for 20 threads: \n",
      "0.6512598991394043\n"
     ]
    }
   ],
   "source": [
    "if __name__ == \"__main__\":\n",
    "    your_queue = queue.Queue(10000)\n",
    "    for i in range(10000):\n",
    "        your_queue.put(i)\n",
    "    \n",
    "    start = time.time()\n",
    "    format = \"%(asctime)s: %(message)s\"\n",
    "    logging.basicConfig(format=format, level=logging.INFO,\n",
    "                        datefmt=\"%H:%M:%S\")\n",
    "\n",
    "    threads = list()\n",
    "    for index in range(20):\n",
    "        logging.info(\"Main    : create and start thread %d.\", index)\n",
    "        x = threading.Thread(target=thread_function, args=(index, your_queue))\n",
    "        threads.append(x)\n",
    "        x.start()\n",
    "\n",
    "    for index, thread in enumerate(threads):\n",
    "        logging.info(\"Main    : before joining thread %d.\", index)\n",
    "        thread.join()\n",
    "        logging.info(\"Main    : thread %d done\", index)\n",
    "    print(\"Time consumed for 20 threads: \")\n",
    "    print(time.time() - start)"
   ]
  },
  {
   "cell_type": "markdown",
   "metadata": {},
   "source": [
    "Therefore, as you can see, the time consumed is not always improved by increasing threads\n",
    "Also, in fact, if you run the same code for serval times you may have different time consumed. This is because the threads indeed have some randomness.\n",
    "I suppse this happens because you need to create threads and then run the code. Then for a comparatively simple problem, the time consumed on creating threads may be larger than the one on computing on a single thread. "
   ]
  },
  {
   "cell_type": "code",
   "execution_count": null,
   "metadata": {},
   "outputs": [],
   "source": []
  }
 ],
 "metadata": {
  "kernelspec": {
   "display_name": "Python 3",
   "language": "python",
   "name": "python3"
  },
  "language_info": {
   "codemirror_mode": {
    "name": "ipython",
    "version": 3
   },
   "file_extension": ".py",
   "mimetype": "text/x-python",
   "name": "python",
   "nbconvert_exporter": "python",
   "pygments_lexer": "ipython3",
   "version": "3.6.5"
  }
 },
 "nbformat": 4,
 "nbformat_minor": 2
}
