{
 "cells": [
  {
   "cell_type": "markdown",
   "metadata": {},
   "source": [
    "HW3 Minghao Chi"
   ]
  },
  {
   "cell_type": "markdown",
   "metadata": {},
   "source": [
    "1, Read the code below and rewrite it using only numpy functions (without for loop, if-else statements). Benchmark your implementation. How much is it faster than the naive python implementation? (hint: use np.isin)"
   ]
  },
  {
   "cell_type": "code",
   "execution_count": 1,
   "metadata": {},
   "outputs": [],
   "source": [
    "def func1(names, db):\n",
    "    idx = []\n",
    "    for i in names:\n",
    "        if i in db:\n",
    "            idx.append(db.index(i))\n",
    "    return idx"
   ]
  },
  {
   "cell_type": "code",
   "execution_count": 2,
   "metadata": {},
   "outputs": [],
   "source": [
    "#numpy\n",
    "import numpy as np\n",
    "def func1_np(names, db):\n",
    "    a = np.arange(len(db))\n",
    "    mask = np.isin(db, names)\n",
    "    return a[mask]"
   ]
  },
  {
   "cell_type": "code",
   "execution_count": 3,
   "metadata": {},
   "outputs": [
    {
     "name": "stdout",
     "output_type": "stream",
     "text": [
      "[0, 1]\n",
      "[0 1]\n"
     ]
    }
   ],
   "source": [
    "names = range(5)\n",
    "db = range(3, 10)\n",
    "print(func1(names, db))\n",
    "print(func1_np(names, db))"
   ]
  },
  {
   "cell_type": "code",
   "execution_count": 4,
   "metadata": {},
   "outputs": [
    {
     "name": "stdout",
     "output_type": "stream",
     "text": [
      "2.12 ms ± 79.2 µs per loop (mean ± std. dev. of 7 runs, 100 loops each)\n"
     ]
    }
   ],
   "source": [
    "names = range(10000)\n",
    "db = range(5000,15000)\n",
    "%timeit func1(names, db)"
   ]
  },
  {
   "cell_type": "code",
   "execution_count": 5,
   "metadata": {},
   "outputs": [
    {
     "name": "stdout",
     "output_type": "stream",
     "text": [
      "3.49 ms ± 832 µs per loop (mean ± std. dev. of 7 runs, 100 loops each)\n"
     ]
    }
   ],
   "source": [
    "%timeit func1_np(names, db)"
   ]
  },
  {
   "cell_type": "markdown",
   "metadata": {},
   "source": [
    "2, Use only numpy functions (without for loop, if-else statements) to find the largest 3 distances between points if either points is inside the circle of raidus r0. Then return these points. E.g."
   ]
  },
  {
   "cell_type": "code",
   "execution_count": 8,
   "metadata": {},
   "outputs": [],
   "source": [
    "def search_pairs(coordinates, cirle_r0):\n",
    "    pts_in_r0 = np.linalg.norm(coordinates, axis=1) < cirle_r0 #whether the point is in the circle\n",
    "    pair_dists = np.linalg.norm(coordinates[:, np.newaxis, :] - coordinates, axis=2) #distance between pair of points\n",
    "    \n",
    "    print(pair_dists)\n",
    "    pair_dists = np.tril(pair_dists, k = -1) #use tril so that you do not repeatly get the result\n",
    "    print(pair_dists)\n",
    "    mask = pts_in_r0[: , np.newaxis] ^ pts_in_r0\n",
    "    mask = np.tril(mask, k=-1) \n",
    "    uniq_dists = pair_dists[mask]\n",
    "    three_largest = np.partition(uniq_dists, -3)[-3:] #choose the first 3 distance, the shortest one\n",
    "    \n",
    "    index = np.where(np.isin(pair_dists, three_largest))\n",
    "    return np.transpose(index)"
   ]
  },
  {
   "cell_type": "code",
   "execution_count": 9,
   "metadata": {},
   "outputs": [
    {
     "name": "stdout",
     "output_type": "stream",
     "text": [
      "[[0.         0.62701276 0.23940134 0.93994149 0.23307724]\n",
      " [0.62701276 0.         0.81663333 0.96168862 0.799925  ]\n",
      " [0.23940134 0.81663333 0.         0.86020986 0.02140093]\n",
      " [0.93994149 0.96168862 0.86020986 0.         0.84208373]\n",
      " [0.23307724 0.799925   0.02140093 0.84208373 0.        ]]\n",
      "[[0.         0.         0.         0.         0.        ]\n",
      " [0.62701276 0.         0.         0.         0.        ]\n",
      " [0.23940134 0.81663333 0.         0.         0.        ]\n",
      " [0.93994149 0.96168862 0.86020986 0.         0.        ]\n",
      " [0.23307724 0.799925   0.02140093 0.84208373 0.        ]]\n",
      "[[2 1]\n",
      " [3 0]\n",
      " [3 1]]\n"
     ]
    }
   ],
   "source": [
    "coordinates = np.array(\n",
    "[[0.968, 0.313],\n",
    " [0.692, 0.876],\n",
    " [0.895, 0.085],\n",
    " [0.039, 0.17 ],\n",
    " [0.878, 0.098]]\n",
    ")\n",
    "cirle_r0 = 0.9\n",
    "print(search_pairs(coordinates, cirle_r0))"
   ]
  },
  {
   "cell_type": "code",
   "execution_count": null,
   "metadata": {},
   "outputs": [],
   "source": []
  }
 ],
 "metadata": {
  "kernelspec": {
   "display_name": "Python 3",
   "language": "python",
   "name": "python3"
  },
  "language_info": {
   "codemirror_mode": {
    "name": "ipython",
    "version": 3
   },
   "file_extension": ".py",
   "mimetype": "text/x-python",
   "name": "python",
   "nbconvert_exporter": "python",
   "pygments_lexer": "ipython3",
   "version": "3.6.5"
  }
 },
 "nbformat": 4,
 "nbformat_minor": 2
}
