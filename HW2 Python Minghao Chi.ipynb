{
 "cells": [
  {
   "cell_type": "markdown",
   "metadata": {},
   "source": [
    "Question1, Merge Sorted Stream"
   ]
  },
  {
   "cell_type": "code",
   "execution_count": 13,
   "metadata": {},
   "outputs": [
    {
     "name": "stdout",
     "output_type": "stream",
     "text": [
      "0\n",
      "1\n",
      "2\n",
      "3\n",
      "4\n",
      "5\n",
      "6\n",
      "7\n",
      "8\n",
      "9\n"
     ]
    }
   ],
   "source": [
    "def merge_sorted_stream(stream1, stream2):\n",
    "    l1 = list(stream1)\n",
    "    l2 = list(stream2)\n",
    "    l1_iterator = 0\n",
    "    l2_iterator = 0\n",
    "    while(l1_iterator < len(l1) and l2_iterator < len(l2)):\n",
    "        if (l1[l1_iterator] < l2[l2_iterator]):\n",
    "            yield l1[l1_iterator]\n",
    "            l1_iterator += 1\n",
    "        elif (l1[l1_iterator] > l2[l2_iterator]):\n",
    "            yield l2[l2_iterator]\n",
    "            l2_iterator += 1\n",
    "        else:\n",
    "            yield l1[l1_iterator], l2[l2_iterator]\n",
    "            l1_iterator += 1\n",
    "            l2_iterator += 1\n",
    "    while(l1_iterator < len(l1)):\n",
    "          yield l1[l1_iterator]\n",
    "          l1_iterator += 1\n",
    "    while(l2_iterator < len(l2)):\n",
    "          yield l2[l2_iterator]\n",
    "          l2_iterator += 1\n",
    "\n",
    "stream1 = range(0, 10, 2)\n",
    "stream2 = range(1, 10, 2)\n",
    "\n",
    "for x in merge_sorted_stream(stream1, stream2):\n",
    "    print(x)"
   ]
  },
  {
   "cell_type": "markdown",
   "metadata": {},
   "source": [
    "Question2 Tree Traversal"
   ]
  },
  {
   "cell_type": "code",
   "execution_count": 2,
   "metadata": {},
   "outputs": [
    {
     "name": "stdout",
     "output_type": "stream",
     "text": [
      "4 -> 2 -> 5 -> 1 -> 3\n",
      "1 -> 2 -> 4 -> 5 -> 3\n",
      "4 -> 5 -> 2 -> 3 -> 1\n"
     ]
    }
   ],
   "source": [
    "class TreeNode:\n",
    "    def __init__(self, data):\n",
    "        self.data = data\n",
    "        self.left = None\n",
    "        self.right = None\n",
    "\n",
    "    def in_order(self): #left, root, right\n",
    "        if self.left:\n",
    "            for part in self.left.in_order():\n",
    "                yield str(part)\n",
    "        yield str(self.data)\n",
    "        if self.right:\n",
    "            for part in self.right.in_order():\n",
    "                yield str(part)\n",
    "\n",
    "    def pre_order(self): #root, left, right\n",
    "        yield str(self.data)\n",
    "        if self.left:\n",
    "            for part in self.left.pre_order():\n",
    "                yield str(part)\n",
    "        if self.right:\n",
    "            for part in self.right.pre_order():\n",
    "                yield str(part)\n",
    "\n",
    "    def post_order(self): #left, right, root\n",
    "        if self.left:\n",
    "            for part in self.left.post_order():\n",
    "                yield str(part)\n",
    "        if self.right:\n",
    "            for part in self.right.post_order():\n",
    "                yield str(part)\n",
    "        yield str(self.data)\n",
    "\n",
    "root = TreeNode(1)\n",
    "root.left = TreeNode(2)\n",
    "root.right = TreeNode(3)\n",
    "root.left.left = TreeNode(4)\n",
    "root.left.right = TreeNode(5)\n",
    "\n",
    "print(' -> '.join(item for item in root.in_order()))\n",
    "print(' -> '.join(item for item in root.pre_order()))\n",
    "print(' -> '.join(item for item in root.post_order()))\n",
    "#4 -> 2 -> 5 -> 1 -> 3"
   ]
  },
  {
   "cell_type": "markdown",
   "metadata": {},
   "source": [
    "Question 3, timer"
   ]
  },
  {
   "cell_type": "code",
   "execution_count": 23,
   "metadata": {},
   "outputs": [
    {
     "name": "stdout",
     "output_type": "stream",
     "text": [
      "Time elapsed: 3.0042717456817627 seconds\n"
     ]
    }
   ],
   "source": [
    "import time\n",
    "\n",
    "class timer:\n",
    "\n",
    "    def __init__(self):\n",
    "        self.start = 0\n",
    "        self.end = 0\n",
    "        \n",
    "    def __enter__(self): #activate by with statement\n",
    "        self.start = time.time()\n",
    "        \n",
    "    def __exit__(self, exc_type, exc_value, traceback): #call exit after with statement\n",
    "        self.end = time.time()\n",
    "        print(f\"Time elapsed: {self.end - self.start} seconds\")\n",
    "        return True\n",
    "\n",
    "with timer() as timer:\n",
    "    time.sleep(3)\n",
    "    a = [i**2 for i in range(10000)]\n",
    "\n"
   ]
  },
  {
   "cell_type": "code",
   "execution_count": null,
   "metadata": {},
   "outputs": [],
   "source": []
  }
 ],
 "metadata": {
  "kernelspec": {
   "display_name": "Python 3",
   "language": "python",
   "name": "python3"
  },
  "language_info": {
   "codemirror_mode": {
    "name": "ipython",
    "version": 3
   },
   "file_extension": ".py",
   "mimetype": "text/x-python",
   "name": "python",
   "nbconvert_exporter": "python",
   "pygments_lexer": "ipython3",
   "version": "3.6.5"
  }
 },
 "nbformat": 4,
 "nbformat_minor": 2
}
